{
 "cells": [
  {
   "cell_type": "markdown",
   "metadata": {
    "id": "i_GcJlVrDgBk"
   },
   "source": [
    "Name: **Janhavi Kolte**<br>\n",
    "Div: **BE09-R9**<br>\n",
    "Roll no: **43141**<br>\n",
    "Title: **Assignment 5: Implement the Continuous Bag of Words (CBOW) Model**<br>"
   ]
  },
  {
   "cell_type": "code",
   "execution_count": 1,
   "metadata": {
    "id": "V51q50EbF-T9"
   },
   "outputs": [],
   "source": [
    "#importing libraries\n",
    "from keras.preprocessing import text\n",
    "from keras.utils import np_utils\n",
    "from keras.preprocessing import sequence\n",
    "from keras.utils import pad_sequences\n",
    "import numpy as np\n",
    "import pandas as pd"
   ]
  },
  {
   "cell_type": "code",
   "execution_count": 2,
   "metadata": {
    "id": "wBUwYdBJElVz"
   },
   "outputs": [],
   "source": [
    "#taking random sentences as data\n",
    "data = \"\"\"Deep learning (also known as deep structured learning) is part of a broader family of machine learning methods based on artificial neural networks with representation learning. Learning can be supervised, semi-supervised or unsupervised. \n",
    "Deep-learning architectures such as deep neural networks, deep belief networks, deep reinforcement learning, recurrent neural networks, convolutional neural networks and Transformers have been applied to fields including computer vision, speech recognition, natural language processing, machine translation, bioinformatics, drug design, medical image analysis, climate science, material inspection and board game programs, where they have produced results comparable to and in some cases surpassing human expert performance.\n",
    "\"\"\"\n",
    "dl_data = data.split()"
   ]
  },
  {
   "cell_type": "code",
   "execution_count": 3,
   "metadata": {
    "colab": {
     "base_uri": "https://localhost:8080/"
    },
    "id": "celNk9LmEvm8",
    "outputId": "4e2143b6-92dc-452f-f468-7c9e6238e287"
   },
   "outputs": [
    {
     "name": "stdout",
     "output_type": "stream",
     "text": [
      "Vocabulary Size: 75\n",
      "Vocabulary Sample: [('learning', 1), ('deep', 2), ('networks', 3), ('neural', 4), ('and', 5), ('as', 6), ('of', 7), ('machine', 8), ('supervised', 9), ('have', 10)]\n"
     ]
    }
   ],
   "source": [
    "#tokenization\n",
    "tokenizer = text.Tokenizer()\n",
    "tokenizer.fit_on_texts(dl_data)   # create dictionaries\n",
    "word2id = tokenizer.word_index\n",
    "\n",
    "word2id['PAD'] = 0\n",
    "id2word = {v:k for k, v in word2id.items()}\n",
    "wids = [[word2id[w] for w in text.text_to_word_sequence(doc)] for doc in dl_data]\n",
    "\n",
    "vocab_size = len(word2id)\n",
    "embed_size = 100\n",
    "window_size = 2 \n",
    "\n",
    "print('Vocabulary Size:', vocab_size)\n",
    "print('Vocabulary Sample:', list(word2id.items())[:10])"
   ]
  },
  {
   "cell_type": "code",
   "execution_count": 4,
   "metadata": {
    "id": "AAxNYDanInQC"
   },
   "outputs": [],
   "source": [
    "#generating (context word, target/label word) pairs\n",
    "def generate_context_word_pairs(corpus, window_size, vocab_size):\n",
    "    context_length = window_size*2\n",
    "    for words in corpus:\n",
    "        sentence_length = len(words)\n",
    "        for index, word in enumerate(words):\n",
    "            context_words = []\n",
    "            label_word   = []            \n",
    "            start = index - window_size\n",
    "            end = index + window_size + 1\n",
    "            \n",
    "            context_words.append([words[i] \n",
    "                                 for i in range(start, end) \n",
    "                                 if 0 <= i < sentence_length \n",
    "                                 and i != index])\n",
    "            label_word.append(word)\n",
    "\n",
    "            x = pad_sequences(context_words, maxlen=context_length)\n",
    "            y = np_utils.to_categorical(label_word, vocab_size)\n",
    "            yield (x, y)\n",
    "            \n",
    "i = 0\n",
    "for x, y in generate_context_word_pairs(corpus=wids, window_size=window_size, vocab_size=vocab_size):\n",
    "    if 0 not in x[0]:\n",
    "        print('Context (X):', [id2word[w] for w in x[0]], '-> Target (Y):', id2word[np.argwhere(y[0])[0][0]])\n",
    "    \n",
    "        if i == 10:\n",
    "            break\n",
    "        i += 1"
   ]
  },
  {
   "cell_type": "code",
   "execution_count": 5,
   "metadata": {
    "colab": {
     "base_uri": "https://localhost:8080/"
    },
    "id": "Rb5dNmoZKZBv",
    "outputId": "b859c07e-6989-420d-b169-8aa0b93ff367"
   },
   "outputs": [
    {
     "name": "stdout",
     "output_type": "stream",
     "text": [
      "Model: \"sequential\"\n",
      "_________________________________________________________________\n",
      " Layer (type)                Output Shape              Param #   \n",
      "=================================================================\n",
      " embedding (Embedding)       (None, 4, 100)            7500      \n",
      "                                                                 \n",
      " lambda (Lambda)             (None, 100)               0         \n",
      "                                                                 \n",
      " dense (Dense)               (None, 75)                7575      \n",
      "                                                                 \n",
      "=================================================================\n",
      "Total params: 15,075\n",
      "Trainable params: 15,075\n",
      "Non-trainable params: 0\n",
      "_________________________________________________________________\n",
      "None\n"
     ]
    }
   ],
   "source": [
    "#model building\n",
    "import keras.backend as K\n",
    "from keras.models import Sequential\n",
    "from keras.layers import Dense, Embedding, Lambda\n",
    "\n",
    "cbow = Sequential()\n",
    "cbow.add(Embedding(input_dim=vocab_size, output_dim=embed_size, input_length=window_size*2))\n",
    "cbow.add(Lambda(lambda x: K.mean(x, axis=1), output_shape=(embed_size,)))\n",
    "cbow.add(Dense(vocab_size, activation='softmax'))\n",
    "cbow.compile(loss='categorical_crossentropy', optimizer='rmsprop')\n",
    "\n",
    "print(cbow.summary())\n"
   ]
  },
  {
   "cell_type": "code",
   "execution_count": 9,
   "metadata": {
    "colab": {
     "base_uri": "https://localhost:8080/"
    },
    "id": "xs12C3MDK1q4",
    "outputId": "fe8783b3-0ee1-4286-be40-6713afa14f9c"
   },
   "outputs": [
    {
     "name": "stdout",
     "output_type": "stream",
     "text": [
      "Epoch: 1 \tLoss: 418.35136556625366\n",
      "\n",
      "Epoch: 2 \tLoss: 417.36599564552307\n",
      "\n",
      "Epoch: 3 \tLoss: 416.67915749549866\n",
      "\n",
      "Epoch: 4 \tLoss: 416.1490001678467\n",
      "\n",
      "Epoch: 5 \tLoss: 415.7113938331604\n",
      "\n"
     ]
    }
   ],
   "source": [
    "for epoch in range(1, 6):\n",
    "    loss = 0\n",
    "    i = 0\n",
    "    for x, y in generate_context_word_pairs(corpus=wids, window_size=window_size, vocab_size=vocab_size):\n",
    "        i += 1\n",
    "        loss += cbow.train_on_batch(x, y)\n",
    "        if i % 100000 == 0:\n",
    "            print('Processed {} (context, word) pairs'.format(i))\n",
    "\n",
    "    print('Epoch:', epoch, '\\tLoss:', loss)\n",
    "    print()"
   ]
  },
  {
   "cell_type": "code",
   "execution_count": 7,
   "metadata": {
    "colab": {
     "base_uri": "https://localhost:8080/",
     "height": 253
    },
    "id": "TZ3_QGKVK6Tj",
    "outputId": "cd9d167a-85a3-4cc9-eccb-faf997526122"
   },
   "outputs": [
    {
     "name": "stdout",
     "output_type": "stream",
     "text": [
      "(74, 100)\n"
     ]
    },
    {
     "data": {
      "text/html": [
       "<div>\n",
       "<style scoped>\n",
       "    .dataframe tbody tr th:only-of-type {\n",
       "        vertical-align: middle;\n",
       "    }\n",
       "\n",
       "    .dataframe tbody tr th {\n",
       "        vertical-align: top;\n",
       "    }\n",
       "\n",
       "    .dataframe thead th {\n",
       "        text-align: right;\n",
       "    }\n",
       "</style>\n",
       "<table border=\"1\" class=\"dataframe\">\n",
       "  <thead>\n",
       "    <tr style=\"text-align: right;\">\n",
       "      <th></th>\n",
       "      <th>0</th>\n",
       "      <th>1</th>\n",
       "      <th>2</th>\n",
       "      <th>3</th>\n",
       "      <th>4</th>\n",
       "      <th>5</th>\n",
       "      <th>6</th>\n",
       "      <th>7</th>\n",
       "      <th>8</th>\n",
       "      <th>9</th>\n",
       "      <th>...</th>\n",
       "      <th>90</th>\n",
       "      <th>91</th>\n",
       "      <th>92</th>\n",
       "      <th>93</th>\n",
       "      <th>94</th>\n",
       "      <th>95</th>\n",
       "      <th>96</th>\n",
       "      <th>97</th>\n",
       "      <th>98</th>\n",
       "      <th>99</th>\n",
       "    </tr>\n",
       "  </thead>\n",
       "  <tbody>\n",
       "    <tr>\n",
       "      <th>deep</th>\n",
       "      <td>0.006324</td>\n",
       "      <td>0.024059</td>\n",
       "      <td>-0.000646</td>\n",
       "      <td>0.039228</td>\n",
       "      <td>-0.029518</td>\n",
       "      <td>-0.034489</td>\n",
       "      <td>-0.012516</td>\n",
       "      <td>0.030913</td>\n",
       "      <td>0.006019</td>\n",
       "      <td>0.037684</td>\n",
       "      <td>...</td>\n",
       "      <td>-0.044719</td>\n",
       "      <td>-0.050845</td>\n",
       "      <td>-0.005173</td>\n",
       "      <td>0.010878</td>\n",
       "      <td>-0.003478</td>\n",
       "      <td>0.027497</td>\n",
       "      <td>0.028113</td>\n",
       "      <td>0.001938</td>\n",
       "      <td>0.003525</td>\n",
       "      <td>-0.029264</td>\n",
       "    </tr>\n",
       "    <tr>\n",
       "      <th>networks</th>\n",
       "      <td>0.048361</td>\n",
       "      <td>0.022846</td>\n",
       "      <td>0.061082</td>\n",
       "      <td>0.015425</td>\n",
       "      <td>0.027031</td>\n",
       "      <td>0.015516</td>\n",
       "      <td>0.018840</td>\n",
       "      <td>0.026531</td>\n",
       "      <td>-0.002093</td>\n",
       "      <td>-0.004912</td>\n",
       "      <td>...</td>\n",
       "      <td>0.054334</td>\n",
       "      <td>-0.052649</td>\n",
       "      <td>0.045260</td>\n",
       "      <td>0.020504</td>\n",
       "      <td>0.023886</td>\n",
       "      <td>-0.011450</td>\n",
       "      <td>-0.003168</td>\n",
       "      <td>0.044643</td>\n",
       "      <td>0.038507</td>\n",
       "      <td>-0.040865</td>\n",
       "    </tr>\n",
       "    <tr>\n",
       "      <th>neural</th>\n",
       "      <td>0.046984</td>\n",
       "      <td>-0.032211</td>\n",
       "      <td>0.023336</td>\n",
       "      <td>0.030527</td>\n",
       "      <td>0.018027</td>\n",
       "      <td>0.011331</td>\n",
       "      <td>0.038708</td>\n",
       "      <td>-0.007325</td>\n",
       "      <td>-0.046905</td>\n",
       "      <td>-0.033843</td>\n",
       "      <td>...</td>\n",
       "      <td>0.025142</td>\n",
       "      <td>-0.032086</td>\n",
       "      <td>-0.031426</td>\n",
       "      <td>0.011581</td>\n",
       "      <td>0.023614</td>\n",
       "      <td>-0.041405</td>\n",
       "      <td>-0.048676</td>\n",
       "      <td>0.012083</td>\n",
       "      <td>0.037075</td>\n",
       "      <td>-0.030305</td>\n",
       "    </tr>\n",
       "    <tr>\n",
       "      <th>and</th>\n",
       "      <td>-0.027533</td>\n",
       "      <td>0.019315</td>\n",
       "      <td>-0.018955</td>\n",
       "      <td>-0.038217</td>\n",
       "      <td>0.001857</td>\n",
       "      <td>0.037236</td>\n",
       "      <td>0.014493</td>\n",
       "      <td>0.045526</td>\n",
       "      <td>0.000519</td>\n",
       "      <td>-0.048525</td>\n",
       "      <td>...</td>\n",
       "      <td>-0.025436</td>\n",
       "      <td>-0.002878</td>\n",
       "      <td>0.020926</td>\n",
       "      <td>-0.036782</td>\n",
       "      <td>-0.019912</td>\n",
       "      <td>0.035139</td>\n",
       "      <td>0.031239</td>\n",
       "      <td>-0.032837</td>\n",
       "      <td>-0.044151</td>\n",
       "      <td>-0.036265</td>\n",
       "    </tr>\n",
       "    <tr>\n",
       "      <th>as</th>\n",
       "      <td>-0.021899</td>\n",
       "      <td>-0.046869</td>\n",
       "      <td>-0.017886</td>\n",
       "      <td>0.020243</td>\n",
       "      <td>0.039142</td>\n",
       "      <td>-0.036131</td>\n",
       "      <td>0.048401</td>\n",
       "      <td>0.008929</td>\n",
       "      <td>0.014857</td>\n",
       "      <td>0.036785</td>\n",
       "      <td>...</td>\n",
       "      <td>0.026624</td>\n",
       "      <td>0.047343</td>\n",
       "      <td>0.029139</td>\n",
       "      <td>0.038179</td>\n",
       "      <td>0.041367</td>\n",
       "      <td>0.049007</td>\n",
       "      <td>0.010346</td>\n",
       "      <td>-0.027390</td>\n",
       "      <td>0.013573</td>\n",
       "      <td>-0.012597</td>\n",
       "    </tr>\n",
       "  </tbody>\n",
       "</table>\n",
       "<p>5 rows × 100 columns</p>\n",
       "</div>"
      ],
      "text/plain": [
       "                0         1         2         3         4         5   \\\n",
       "deep      0.006324  0.024059 -0.000646  0.039228 -0.029518 -0.034489   \n",
       "networks  0.048361  0.022846  0.061082  0.015425  0.027031  0.015516   \n",
       "neural    0.046984 -0.032211  0.023336  0.030527  0.018027  0.011331   \n",
       "and      -0.027533  0.019315 -0.018955 -0.038217  0.001857  0.037236   \n",
       "as       -0.021899 -0.046869 -0.017886  0.020243  0.039142 -0.036131   \n",
       "\n",
       "                6         7         8         9   ...        90        91  \\\n",
       "deep     -0.012516  0.030913  0.006019  0.037684  ... -0.044719 -0.050845   \n",
       "networks  0.018840  0.026531 -0.002093 -0.004912  ...  0.054334 -0.052649   \n",
       "neural    0.038708 -0.007325 -0.046905 -0.033843  ...  0.025142 -0.032086   \n",
       "and       0.014493  0.045526  0.000519 -0.048525  ... -0.025436 -0.002878   \n",
       "as        0.048401  0.008929  0.014857  0.036785  ...  0.026624  0.047343   \n",
       "\n",
       "                92        93        94        95        96        97  \\\n",
       "deep     -0.005173  0.010878 -0.003478  0.027497  0.028113  0.001938   \n",
       "networks  0.045260  0.020504  0.023886 -0.011450 -0.003168  0.044643   \n",
       "neural   -0.031426  0.011581  0.023614 -0.041405 -0.048676  0.012083   \n",
       "and       0.020926 -0.036782 -0.019912  0.035139  0.031239 -0.032837   \n",
       "as        0.029139  0.038179  0.041367  0.049007  0.010346 -0.027390   \n",
       "\n",
       "                98        99  \n",
       "deep      0.003525 -0.029264  \n",
       "networks  0.038507 -0.040865  \n",
       "neural    0.037075 -0.030305  \n",
       "and      -0.044151 -0.036265  \n",
       "as        0.013573 -0.012597  \n",
       "\n",
       "[5 rows x 100 columns]"
      ]
     },
     "execution_count": 7,
     "metadata": {},
     "output_type": "execute_result"
    }
   ],
   "source": [
    "weights = cbow.get_weights()[0]\n",
    "weights = weights[1:]\n",
    "print(weights.shape)\n",
    "\n",
    "pd.DataFrame(weights, index=list(id2word.values())[1:]).head()"
   ]
  },
  {
   "cell_type": "code",
   "execution_count": 8,
   "metadata": {
    "colab": {
     "base_uri": "https://localhost:8080/"
    },
    "id": "UFs2IAn_LAYS",
    "outputId": "87ae1249-6a80-484f-b4a2-4d5f20734db7"
   },
   "outputs": [
    {
     "name": "stdout",
     "output_type": "stream",
     "text": [
      "(74, 74)\n"
     ]
    },
    {
     "data": {
      "text/plain": [
       "{'deep': ['analysis', 'inspection', 'is', 'belief', 'results']}"
      ]
     },
     "execution_count": 8,
     "metadata": {},
     "output_type": "execute_result"
    }
   ],
   "source": [
    "from sklearn.metrics.pairwise import euclidean_distances\n",
    "\n",
    "distance_matrix = euclidean_distances(weights)\n",
    "print(distance_matrix.shape)\n",
    "\n",
    "similar_words = {search_term: [id2word[idx] for idx in distance_matrix[word2id[search_term]-1].argsort()[1:6]+1] \n",
    "                   for search_term in ['deep']}\n",
    "\n",
    "similar_words"
   ]
  }
 ],
 "metadata": {
  "colab": {
   "collapsed_sections": [],
   "provenance": []
  },
  "kernelspec": {
   "display_name": "Python 3",
   "language": "python",
   "name": "python3"
  },
  "language_info": {
   "codemirror_mode": {
    "name": "ipython",
    "version": 3
   },
   "file_extension": ".py",
   "mimetype": "text/x-python",
   "name": "python",
   "nbconvert_exporter": "python",
   "pygments_lexer": "ipython3",
   "version": "3.8.5"
  }
 },
 "nbformat": 4,
 "nbformat_minor": 1
}
